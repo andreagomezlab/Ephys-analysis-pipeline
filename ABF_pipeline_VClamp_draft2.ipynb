{
 "cells": [
  {
   "cell_type": "markdown",
   "metadata": {},
   "source": [
    "In the previous version of this notebook we generated DataFrames for each cell under one \"genotype\", where the data consisted of input R, series R, and peak EPSC amplitude per presynaptic stimulation under a voltage clamp protocol. However, the bulk of the data exists as intermingled experiments of either voltage or current clamp. Also, some of the individual folders that would correspond to a single cell are actually 2, since there were some simultaneous recordings saved as another abf.sweep'Y' channel (with another name probably). *This version will use the provided .csv files that contain the stimulus intensities as a metadata source for selecting between VClamp and IClamp analyses, skip over any errors in recordings, and detect and extract data from files where more than 1 cell was recorded.*"
   ]
  },
  {
   "cell_type": "markdown",
   "metadata": {},
   "source": [
    "__I - Instalation of libraries and listing directories of data.__ -unchanged\n",
    "\n"
   ]
  },
  {
   "cell_type": "code",
   "execution_count": 3,
   "metadata": {},
   "outputs": [
    {
     "name": "stdout",
     "output_type": "stream",
     "text": [
      "Collecting pyabf\n",
      "\u001b[?25l  Downloading https://files.pythonhosted.org/packages/cf/3e/7e7b6442352f452090c0ca693d9949700aeeb8df0dcea8a72f7bfc7f28e1/pyabf-2.2.4.tar.gz (42kB)\n",
      "\u001b[K     |████████████████████████████████| 51kB 2.6MB/s eta 0:00:01\n",
      "\u001b[?25hRequirement already satisfied, skipping upgrade: matplotlib>=2.1.0 in /Users/adrianalejandro/opt/anaconda3/lib/python3.7/site-packages (from pyabf) (3.1.1)\n",
      "Requirement already satisfied, skipping upgrade: numpy>=1.13.3 in /Users/adrianalejandro/opt/anaconda3/lib/python3.7/site-packages (from pyabf) (1.17.2)\n",
      "Requirement already satisfied, skipping upgrade: pytest>=3.0.7 in /Users/adrianalejandro/opt/anaconda3/lib/python3.7/site-packages (from pyabf) (5.2.1)\n",
      "Requirement already satisfied, skipping upgrade: cycler>=0.10 in /Users/adrianalejandro/opt/anaconda3/lib/python3.7/site-packages (from matplotlib>=2.1.0->pyabf) (0.10.0)\n",
      "Requirement already satisfied, skipping upgrade: kiwisolver>=1.0.1 in /Users/adrianalejandro/opt/anaconda3/lib/python3.7/site-packages (from matplotlib>=2.1.0->pyabf) (1.1.0)\n",
      "Requirement already satisfied, skipping upgrade: pyparsing!=2.0.4,!=2.1.2,!=2.1.6,>=2.0.1 in /Users/adrianalejandro/opt/anaconda3/lib/python3.7/site-packages (from matplotlib>=2.1.0->pyabf) (2.4.2)\n",
      "Requirement already satisfied, skipping upgrade: python-dateutil>=2.1 in /Users/adrianalejandro/opt/anaconda3/lib/python3.7/site-packages (from matplotlib>=2.1.0->pyabf) (2.8.0)\n",
      "Requirement already satisfied, skipping upgrade: py>=1.5.0 in /Users/adrianalejandro/opt/anaconda3/lib/python3.7/site-packages (from pytest>=3.0.7->pyabf) (1.8.0)\n",
      "Requirement already satisfied, skipping upgrade: packaging in /Users/adrianalejandro/opt/anaconda3/lib/python3.7/site-packages (from pytest>=3.0.7->pyabf) (19.2)\n",
      "Requirement already satisfied, skipping upgrade: attrs>=17.4.0 in /Users/adrianalejandro/opt/anaconda3/lib/python3.7/site-packages (from pytest>=3.0.7->pyabf) (19.2.0)\n",
      "Requirement already satisfied, skipping upgrade: more-itertools>=4.0.0 in /Users/adrianalejandro/opt/anaconda3/lib/python3.7/site-packages (from pytest>=3.0.7->pyabf) (7.2.0)\n",
      "Requirement already satisfied, skipping upgrade: atomicwrites>=1.0 in /Users/adrianalejandro/opt/anaconda3/lib/python3.7/site-packages (from pytest>=3.0.7->pyabf) (1.3.0)\n",
      "Requirement already satisfied, skipping upgrade: pluggy<1.0,>=0.12 in /Users/adrianalejandro/opt/anaconda3/lib/python3.7/site-packages (from pytest>=3.0.7->pyabf) (0.13.0)\n",
      "Requirement already satisfied, skipping upgrade: wcwidth in /Users/adrianalejandro/opt/anaconda3/lib/python3.7/site-packages (from pytest>=3.0.7->pyabf) (0.1.7)\n",
      "Requirement already satisfied, skipping upgrade: importlib-metadata>=0.12 in /Users/adrianalejandro/opt/anaconda3/lib/python3.7/site-packages (from pytest>=3.0.7->pyabf) (0.23)\n",
      "Requirement already satisfied, skipping upgrade: six in /Users/adrianalejandro/opt/anaconda3/lib/python3.7/site-packages (from cycler>=0.10->matplotlib>=2.1.0->pyabf) (1.12.0)\n",
      "Requirement already satisfied, skipping upgrade: setuptools in /Users/adrianalejandro/opt/anaconda3/lib/python3.7/site-packages (from kiwisolver>=1.0.1->matplotlib>=2.1.0->pyabf) (41.4.0)\n",
      "Requirement already satisfied, skipping upgrade: zipp>=0.5 in /Users/adrianalejandro/opt/anaconda3/lib/python3.7/site-packages (from importlib-metadata>=0.12->pytest>=3.0.7->pyabf) (0.6.0)\n",
      "Building wheels for collected packages: pyabf\n",
      "  Building wheel for pyabf (setup.py) ... \u001b[?25ldone\n",
      "\u001b[?25h  Created wheel for pyabf: filename=pyabf-2.2.4-cp37-none-any.whl size=47354 sha256=ac705848dd562147cf77e4634d7cc9ac394d76752575b3438721229398969e8b\n",
      "  Stored in directory: /Users/adrianalejandro/Library/Caches/pip/wheels/06/ff/20/d76d595be7f397375b438ea2c107d268a2b3ee07ed8a843106\n",
      "Successfully built pyabf\n",
      "Installing collected packages: pyabf\n",
      "  Found existing installation: pyabf 2.2.3\n",
      "    Uninstalling pyabf-2.2.3:\n",
      "      Successfully uninstalled pyabf-2.2.3\n",
      "Successfully installed pyabf-2.2.4\n",
      "Note: you may need to restart the kernel to use updated packages.\n"
     ]
    }
   ],
   "source": [
    "pip install --upgrade pyabf"
   ]
  },
  {
   "cell_type": "code",
   "execution_count": 4,
   "metadata": {
    "scrolled": true
   },
   "outputs": [
    {
     "name": "stderr",
     "output_type": "stream",
     "text": [
      "/Users/adrianalejandro/opt/anaconda3/lib/python3.7/site-packages/pyabf/tools/__init__.py:8: UserWarning: All pyabf.tools modules are experimental (APIs may change)\n",
      "  warnings.warn(\"All pyabf.tools modules are experimental (APIs may change)\")\n"
     ]
    }
   ],
   "source": [
    "import pyabf\n",
    "import pyabf.tools.memtest \n",
    "import matplotlib.pyplot as plt\n",
    "import numpy as np\n",
    "import os \n",
    "import os.path\n",
    "from os import path\n",
    "import csv\n",
    "import pandas as pnd\n",
    "from tkinter import Tk\n",
    "from tkinter.filedialog import askdirectory\n",
    "\n",
    "import warnings\n",
    "warnings.filterwarnings(\"ignore\", category=FutureWarning)"
   ]
  },
  {
   "cell_type": "markdown",
   "metadata": {},
   "source": [
    "__II - Generate metadata__"
   ]
  },
  {
   "cell_type": "code",
   "execution_count": 5,
   "metadata": {},
   "outputs": [],
   "source": [
    "def get_txt_metadata(mouse,contents):   \n",
    "    all_header_files = []\n",
    "    \n",
    "    for filename in contents:\n",
    "        if '.txt' not in filename and '.csv' not in filename and mouse not in filename: ###\n",
    "            header_txt = filename + '_header.txt'\n",
    "            header = open(header_txt,'w')\n",
    "            all_header_files.append(header_txt)\n",
    "            abf = pyabf.ABF(filename)\n",
    "            header.write(abf.headerText)\n",
    "            header.close()\n",
    "    return(all_header_files)\n"
   ]
  },
  {
   "cell_type": "code",
   "execution_count": 6,
   "metadata": {},
   "outputs": [],
   "source": [
    "def get_csv_metadata(all_header_files):\n",
    "    \n",
    "    csv_files = []\n",
    "\n",
    "    for filename in all_header_files:\n",
    "        if '.csv' not in filename and '.txt' in filename:\n",
    "            header = open(filename,'r')\n",
    "            metadata_str = []\n",
    "    \n",
    "            for line in header:\n",
    "                if '=' in line:\n",
    "                    metadata_str.append(line)\n",
    "            \n",
    "            csv_filename = filename.replace('.txt','.csv')\n",
    "            metadata_csv = pnd.DataFrame(metadata_str)\n",
    "        \n",
    "            metadata_csv.columns = ['Data'] # pandas doesn't like column names to be 0 \n",
    "            metadata_csv[['Data','Values']] = metadata_csv.Data.str.split(\" = \",expand=True) # remove whitespaces too!!!\n",
    "            metadata_csv.to_csv(csv_filename, sep=',',index=False)\n",
    "            csv_files.append(csv_filename)\n",
    "        \n",
    "    return csv_files\n"
   ]
  },
  {
   "cell_type": "code",
   "execution_count": 229,
   "metadata": {},
   "outputs": [],
   "source": [
    "def get_metadata_values(validated_csv,parameter):\n",
    "\n",
    "    # Obtains raw data string associated to specified parameter in metadata.\n",
    "    csv_metadata = pnd.read_csv(validated_csv)\n",
    "    dic_metadata = csv_metadata.set_index('Data').to_dict()['Values'] # totally stolen from stack overflow and its FAST\n",
    "    raw_str = dic_metadata[parameter] \n",
    "    return raw_str\n",
    "\n",
    "def get_mV_step_interval(raw_str):\n",
    "    # assumes only a single voltage step in voltage clamp experiments\n",
    "    parsed_str = raw_str.split(', ')\n",
    "    parsed_total = (len(parsed_str))\n",
    "    for i in range(parsed_total):\n",
    "        if '0.00' not in parsed_str[i]:\n",
    "            # also stolen: this extracts string inside []\n",
    "            values = parsed_str[i][parsed_str[i].find(\"[\")+1:parsed_str[i].find(\"]\")]\n",
    "    step_points = (values.split(':'))\n",
    "    step_start, step_end = int(step_points[0]), int(step_points[1])\n",
    "    return step_start, step_end\n"
   ]
  },
  {
   "cell_type": "markdown",
   "metadata": {},
   "source": [
    "__III - Measurements, Resistance, peak_pA__"
   ]
  },
  {
   "cell_type": "code",
   "execution_count": 252,
   "metadata": {},
   "outputs": [],
   "source": [
    "def get_peak_pA_v2(channel_ind,abf,validated_csv):  # and timepoints!\n",
    "    \n",
    "    parameter = 'dataRate' # tickrate\n",
    "    peak_pA = []\n",
    "    peak_pA_ind = []\n",
    "    peak_pA_s = []\n",
    "    latency_s = []\n",
    "    pre_window_s = 0.005 # seconds to look at after artifact to find real starting point for EPSC, 100 ticks\n",
    "    post_window_s = 0.01 # seconds to look after the real starting point to find EPSC peak, 200 ticks\n",
    "    i1, i2 = 0, 5000 # first set of wide indices\n",
    "    \n",
    "    for i in abf.sweepList:\n",
    "        \n",
    "        tickrate = float(get_metadata_values(validated_csv,parameter))\n",
    "        abf.setSweep(i, channel=channel_ind)\n",
    "        \n",
    "        pre_window_ticks = tickrate*pre_window_s \n",
    "        post_window_ticks = tickrate*post_window_s\n",
    "    \n",
    "        pos_max_ind = np.argmax(abf.sweepY[i1:i2]) # huge positive artifact\n",
    "\n",
    "        #Fake calculations to show how numbers are managed with each sum operation\n",
    "        pre_window_i1 = pos_max_ind + 2\n",
    "        pre_window_i2 = int(pre_window_i1 + pre_window_ticks)\n",
    "        # 3100 + 2 = 3102\n",
    "        # 31200 + 100 = 3202\n",
    "    \n",
    "        post_window_i1 = int(pre_window_i1 + (np.argmax(abf.sweepY[pre_window_i1:pre_window_i2])))\n",
    "        post_window_i2 = int(post_window_i1 + post_window_ticks)\n",
    "        #3102 + 25 = 3127\n",
    "        #3127 + 200 = 3327\n",
    "\n",
    "        peak = min(abf.sweepY[post_window_i1:post_window_i2])\n",
    "        peak_ind = int(post_window_i1 + (np.argmin(abf.sweepY[post_window_i1:post_window_i2])))\n",
    "        peak_s = peak_ind/tickrate\n",
    "        latency = peak_s - (pos_max_ind/tickrate) # peak time normalized to stimulus onset (huge positive current)\n",
    "        #3127 + 10 = 3137 (index of peak pA)\n",
    "        \n",
    "        peak_pA.append(peak)       \n",
    "        peak_pA_ind.append(peak_ind) \n",
    "        peak_pA_s.append(peak_s)\n",
    "        latency_s.append(latency)\n",
    "    \n",
    "    return peak_pA, peak_pA_ind, peak_pA_s, latency_s"
   ]
  },
  {
   "cell_type": "code",
   "execution_count": null,
   "metadata": {},
   "outputs": [],
   "source": [
    "def get_resistances_v2(channel_ind,step_start, step_end, abf):\n",
    "    Rs = []\n",
    "    Ri = []\n",
    "    for i in abf.sweepList:\n",
    "        abf.setSweep(i, channel = channel_ind) # channel = cellnum \n",
    "        neg_maxI = min(abf.sweepY[step_start:step_end]) \n",
    "        Input_I = abf.sweepY[step_end - 10]\n",
    "        neg_max_index = int(np.argmin(abf.sweepY[step_start:step_end]) + step_start)\n",
    "        \n",
    "        abf.setSweep(i,channel= channel_ind + 1)\n",
    "        SeriesR = (abf.sweepY[neg_max_index]/neg_maxI) * 1000 #convert from gigaohms to megaohms\n",
    "        Rs.append(SeriesR)\n",
    "        \n",
    "        InputR = ((abf.sweepY[step_end -10])/Input_I) * 1000 # change to real delta Vm\n",
    "        Ri.append(InputR) \n",
    "        \n",
    "    return Ri, Rs "
   ]
  },
  {
   "cell_type": "code",
   "execution_count": 250,
   "metadata": {},
   "outputs": [],
   "source": [
    "def get_RiRs_persweep_v2(channel_ind,validated_csv,abf):\n",
    "    parameter = 'sweepEpochs' # This can be switched around if you want to use this function as a template for\n",
    "                              # functions to call other parameters\n",
    "    values = get_metadata_values(validated_csv,parameter)    \n",
    "    step_start, step_end = get_mV_step_interval(values)\n",
    "    Ri, Rs = get_resistances_v2(channel_ind,step_start, step_end, abf)\n",
    "    return Ri, Rs"
   ]
  },
  {
   "cell_type": "code",
   "execution_count": 251,
   "metadata": {},
   "outputs": [],
   "source": [
    "#Accesory for visualizing resistances from new function above\n",
    "def plot_Rtest_v2(sweep_ind,abf,i1,i2):\n",
    "    \n",
    "    abf.setSweep(sweep_ind, channel = 0)\n",
    "    frame_axis = range(abf.sweepPointCount)\n",
    "    fig = plt.figure(figsize=(8, 4))\n",
    "    \n",
    "    ax1 = fig.add_subplot(211)\n",
    "    ax1.set_title(\"Resistance test\")\n",
    "    ax1.plot(frame_axis[i1:i2], abf.sweepY[i1:i2])\n",
    "    ax1.set_ylabel(abf.sweepLabelY)\n",
    "    \n",
    "    abf.setSweep(sweep_ind, channel = 1)\n",
    "    ax2 = fig.add_subplot(212, sharex=ax1)\n",
    "    ax2.plot(frame_axis[i1:i2], abf.sweepY[i1:i2], color='r')\n",
    "    ax2.set_xlabel('data_frames')\n",
    "    ax2.set_ylabel(abf.sweepLabelY)\n",
    "\n",
    "    return fig"
   ]
  },
  {
   "cell_type": "markdown",
   "metadata": {},
   "source": [
    "__IV - Functions for generating `DataFrame` with all measures above.__\n",
    "\n",
    "`data_summary_percell` is changed to save 2 dataframes in case one folder includes 2 cells."
   ]
  },
  {
   "cell_type": "code",
   "execution_count": 253,
   "metadata": {},
   "outputs": [],
   "source": [
    "def data_summary_percell_v2(channel_ind,validated_ABFs,validated_CSVs,stim_int):\n",
    "    mean_Ri = []\n",
    "    mean_Rs = []\n",
    "    mean_peak_pA = []\n",
    "    all_peak_times = pnd.DataFrame()\n",
    "    for i in range(len(validated_ABFs)): #switch with validated ABF files\n",
    "        abf = pyabf.ABF(validated_ABFs[i]) \n",
    "        Ri, Rs = get_RiRs_persweep_v2(channel_ind,validated_CSVs[i],abf)\n",
    "        # Get average resistances per file and save onto dataframe\n",
    "        mean_Ri.append(np.mean(Ri))\n",
    "        mean_Rs.append(np.mean(Rs))\n",
    "    \n",
    "        # Get peak amplitude of EPSC\n",
    "        peak_pA, peak_pA_ind, peak_pA_s, latency_s = get_peak_pA_v2(channel_ind,abf,validated_CSVs[i])\n",
    "        mean_peak_pA.append(np.mean(peak_pA))\n",
    "        seg = validated_ABFs[i].strip('.abf')\n",
    "        segment = [seg for j in abf.sweepList]\n",
    "        sweep_num = abf.sweepList\n",
    "        peak_times = pnd.DataFrame(list(zip(peak_pA_ind,peak_pA_s,latency_s,segment)), index=sweep_num, columns =  \n",
    "                          [\"peak_pA_frame\", \"peak_pA_time_(s)\",\"peak_latency_(s)\",\"sweep_number\"])\n",
    "        all_peak_times = all_peak_times.append(peak_times,ignore_index=False)\n",
    "        pivot_peak_times = all_peak_times.pivot(index=all_peak_times.index, columns='sweep_number') # Tidy the data by sweep number :)\n",
    "        \n",
    "        i1 = 3250 #arbitrary indices to choose limits on x axis of traces, can be changed to replace saved figures if run again\n",
    "        i2 = 3700\n",
    "        fig = plot_mean_sweep_with_vline(validated_ABFs[i],channel_ind,i1,i2,peak_pA_s)\n",
    "        \n",
    "    cell_df = pnd.DataFrame(list(zip(stim_int, mean_Ri, mean_Rs, mean_peak_pA)), index=validated_ABFs, columns =  \n",
    "                          [\"stimulus_intensity_uA\", \"Input_Resistance_MOhm\", \"Series_Resistance_MOhm\",\n",
    "                           'Peak_amplitude_pA'])                       \n",
    "    \n",
    "    return cell_df , pivot_peak_times, fig"
   ]
  },
  {
   "cell_type": "code",
   "execution_count": 235,
   "metadata": {},
   "outputs": [],
   "source": [
    "def get_xlxs_data(mouse,contents): \n",
    "    for file in contents:\n",
    "        if mouse in file: #experimental notes file is the only one in each mouse folder with the name of that mouse\n",
    "            segment_file = file\n",
    "            exp_notes = pnd.read_excel(segment_file)\n",
    "            stim_int = exp_notes['Stim Intensity (uA)'].tolist()\n",
    "            stim_int.pop(0)\n",
    "            cellnum = exp_notes['cellnum']\n",
    "            cellnum = int(cellnum[0]) \n",
    "            validated_ABFs = exp_notes['File'].tolist()\n",
    "            validated_ABFs.pop(0)\n",
    "    return stim_int, cellnum, validated_ABFs\n",
    "\n",
    "#This functions assumes that 1. stimulation currents are in ascending order along with their respective files and\n",
    "#2. there is a \"cellnum\" column with only one row"
   ]
  },
  {
   "cell_type": "code",
   "execution_count": 232,
   "metadata": {},
   "outputs": [],
   "source": [
    "#Find csv file that matches the name in \"validated_ABFs\"\n",
    "def df_prep_v2(mouse,validated_ABFs,contents):\n",
    "    validated_CSVs = []\n",
    "\n",
    "    for filename in validated_ABFs:\n",
    "        name = filename.replace('.abf','')\n",
    "        for file in contents:        \n",
    "            if  name in file and 'csv' in file:\n",
    "                validated_CSVs.append(file)\n",
    "    return validated_CSVs"
   ]
  },
  {
   "cell_type": "code",
   "execution_count": 227,
   "metadata": {},
   "outputs": [],
   "source": [
    "# Get mean trace of sweeps from a single file\n",
    "def get_mean_trace(abf,channel_ind):\n",
    "    all_traces = []\n",
    "    for i in abf.sweepList:\n",
    "        abf.setSweep(i, channel=channel_ind)\n",
    "        all_traces.append(abf.sweepY)\n",
    "    mean_trace = np.mean(all_traces,axis=0)\n",
    "    return mean_trace"
   ]
  },
  {
   "cell_type": "code",
   "execution_count": 139,
   "metadata": {},
   "outputs": [],
   "source": [
    "#Outputs of this function are saved in each cell folder\n",
    "def plot_mean_sweep_with_vline(file,cell_ind,i1,i2,lines):\n",
    "    \n",
    "    abf = pyabf.ABF(file)\n",
    "    fig = plt.figure(figsize=(10, 5))\n",
    "    cm = plt.get_cmap(\"viridis\") #Make colormap to distinguish sweeps\n",
    "    colors = [cm(x/len(lines)) for x in range(len(lines))]\n",
    "    \n",
    "    mean_trace = get_mean_trace(abf,1)\n",
    "    abf.setSweep(1)\n",
    "    #frame_axis = np.arange(abf.sweepPointCount)\n",
    "    mean_trace = get_mean_trace(abf,channel_ind)\n",
    "    #dataX = frame_axis[i1:i2]\n",
    "    dataX = abf.sweepX[i1:i2]\n",
    "    dataY = mean_trace[i1:i2]\n",
    "    plt.plot(dataX,dataY,color='black')\n",
    "    plt.ylabel(abf.sweepLabelY)\n",
    "    plt.xlabel(abf.sweepLabelX)\n",
    "    plt.title('Registered timepoints for peak amplitudes and mean trace of '+ file, 'cell ' + str(cell_ind))\n",
    "    for i in abf.sweepList:\n",
    "        plt.axvline(x=lines[i],color=colors[i],ymin =0.0, ymax=0.3,linestyle='--')         \n",
    "    return fig"
   ]
  },
  {
   "cell_type": "markdown",
   "metadata": {},
   "source": [
    "Run this cell after all the others above to generate dataframes from your folder of choice, where the subfolders are mice, each with their respective cells."
   ]
  },
  {
   "cell_type": "code",
   "execution_count": null,
   "metadata": {},
   "outputs": [],
   "source": [
    "path = askdirectory(title='Select Folder with all data from one experiment') # shows dialog box and return the path \n",
    "os.chdir(path)\n",
    "\n",
    "if os.path.exists('.DS_Store') == True: #external drive issue with Adrian's computer, shouldn't hurt anything\n",
    "    os.remove('.DS_Store')          \n",
    "gen_dir = os.getcwd()\n",
    "mouse_folders = os.listdir('.')\n",
    "\n",
    "# Go to each folder in dataset that corresponds to one mouse\n",
    "for mouse in mouse_folders:\n",
    "    \n",
    "    mouse_dir = gen_dir + '/' + mouse # get directory for one mouse\n",
    "    os.chdir(mouse_dir)  #change directory to that mouse\n",
    "    if os.path.exists('.DS_Store') == True: # external drive again\n",
    "        os.remove('.DS_Store')    \n",
    "    mouse_wd = os.getcwd() \n",
    "    cell_folders = os.listdir(mouse_wd) # list the cells (directories) of that mouse\n",
    "    \n",
    "# Go to each subfolder that corresponds to each cell of one mouse    \n",
    "    for cell in cell_folders:\n",
    "        if cell == '.DS_Store':\n",
    "            os.remove('.DS_Store')    \n",
    "        \n",
    "        elif 'cell' in cell and 'processed' not in cell:\n",
    "            processed_file = cell + '_processed'\n",
    "            processed_dir = mouse_wd + '/' + processed_file\n",
    "            if not os.path.exists(processed_dir):\n",
    "                os.mkdir(processed_dir)\n",
    "            cell_dir = mouse_dir + '/' + cell\n",
    "            os.chdir(cell_dir)# change directory to one cell of one mouse\n",
    "            cell_wd = os.getcwd()\n",
    "            if os.path.exists('.DS_Store') == True: # external drive again\n",
    "                os.remove('.DS_Store')       \n",
    "            \n",
    "# Create metadata in case its not there already            \n",
    "            contents = os.listdir(cell_wd) # list all contents of this cell\n",
    "            all_header_files = get_txt_metadata(mouse,contents) \n",
    "            all_csv_files = get_csv_metadata(all_header_files)\n",
    "            \n",
    "# KEY STEP - get metadata from experiment excel files (from lab notes)            \n",
    "            new_contents = os.listdir('.')\n",
    "            stim_int, cellnum, validated_ABFs = get_xlxs_data(mouse,new_contents)\n",
    "            validated_CSVs = df_prep_v2(mouse,validated_ABFs,new_contents)\n",
    "            \n",
    "# Generate dataframes and save onto _processed folder in mouse directory, one per each cell (could be 2 per cell folder)\n",
    "            cell_channels = [*range(cellnum)]\n",
    "            for ch in cell_channels:\n",
    "                channel_ind = ch*2\n",
    "                cell_ID = ch + 1\n",
    "                #print(validated_ABFs)\n",
    "                #print(validated_CSVs)\n",
    "                #print(stim_int)\n",
    "                summary, all_peak_times, fig = data_summary_percell_v2(channel_ind, validated_ABFs, \n",
    "                                                                  validated_CSVs, stim_int)\n",
    "                \n",
    "                summ_path = processed_dir + '/' + cell + '_' + str(cell_ID) + '_summary.csv'\n",
    "                tp_path = processed_dir + '/'  + cell + '_' + str(cell_ID) + '_timepoints.csv'\n",
    "                plot_path = processed_dir + '/'  + cell + '_' + str(cell_ID) + '_plot'\n",
    "                \n",
    "                summary.to_csv(summ_path, index = True)\n",
    "                all_peak_times.to_csv(tp_path, index = True)\n",
    "                plt.savefig(plot_path)"
   ]
  },
  {
   "cell_type": "markdown",
   "metadata": {},
   "source": [
    "__V - Troubleshooting section__"
   ]
  },
  {
   "cell_type": "code",
   "execution_count": 140,
   "metadata": {},
   "outputs": [
    {
     "name": "stderr",
     "output_type": "stream",
     "text": [
      "WARNING:pyabf.abf:fileGUID isn't truly unique (fileUUID is)\n",
      "WARNING:pyabf.abf:fileGUID isn't truly unique (fileUUID is)\n",
      "WARNING:pyabf.abf:fileGUID isn't truly unique (fileUUID is)\n",
      "WARNING:pyabf.abf:fileGUID isn't truly unique (fileUUID is)\n",
      "WARNING:pyabf.abf:fileGUID isn't truly unique (fileUUID is)\n",
      "WARNING:pyabf.abf:fileGUID isn't truly unique (fileUUID is)\n",
      "WARNING:pyabf.abf:fileGUID isn't truly unique (fileUUID is)\n",
      "WARNING:pyabf.abf:fileGUID isn't truly unique (fileUUID is)\n",
      "WARNING:pyabf.abf:fileGUID isn't truly unique (fileUUID is)\n",
      "WARNING:pyabf.abf:fileGUID isn't truly unique (fileUUID is)\n",
      "WARNING:pyabf.abf:fileGUID isn't truly unique (fileUUID is)\n",
      "WARNING:pyabf.abf:fileGUID isn't truly unique (fileUUID is)\n",
      "WARNING:pyabf.abf:fileGUID isn't truly unique (fileUUID is)\n",
      "WARNING:pyabf.abf:fileGUID isn't truly unique (fileUUID is)\n",
      "WARNING:pyabf.abf:fileGUID isn't truly unique (fileUUID is)\n",
      "WARNING:pyabf.abf:fileGUID isn't truly unique (fileUUID is)\n",
      "WARNING:pyabf.abf:fileGUID isn't truly unique (fileUUID is)\n",
      "WARNING:pyabf.abf:fileGUID isn't truly unique (fileUUID is)\n",
      "WARNING:pyabf.abf:fileGUID isn't truly unique (fileUUID is)\n",
      "WARNING:pyabf.abf:fileGUID isn't truly unique (fileUUID is)\n"
     ]
    },
    {
     "data": {
      "image/png": "[encoded data removed]",
      "text/plain": [
       "<Figure size 720x360 with 1 Axes>"
      ]
     },
     "metadata": {
      "needs_background": "light"
     },
     "output_type": "display_data"
    },
    {
     "data": {
      "image/png": "[encoded data removed]",
      "text/plain": [
       "<Figure size 720x360 with 1 Axes>"
      ]
     },
     "metadata": {
      "needs_background": "light"
     },
     "output_type": "display_data"
    }
   ],
   "source": [
    "cell_dir = '/Users/adrianalejandro/Desktop/Gomez_rotation/sample data/151219_SCH-029044/029044slice1cell2_3'\n",
    "os.chdir(cell_dir)\n",
    "mouse = '151219_SCH-029044'\n",
    "contents = os.listdir('.') # list all contents in this cell folder\n",
    "all_header_files = get_txt_metadata(mouse,contents) \n",
    "all_csv_files = get_csv_metadata(all_header_files)\n",
    "all_header_files.sort()\n",
    "all_csv_files.sort()\n",
    "new_contents = os.listdir('.')\n",
    "stim_int, cellnum, validated_ABFs = get_xlxs_data(mouse,contents)\n",
    "validated_CSVs = df_prep_v2(mouse,validated_ABFs,new_contents)\n",
    "\n",
    "abf = pyabf.ABF(validated_ABFs[5])\n",
    "peak_pA, peak_pA_ind, peak_pA_s, latency_s = get_peak_pA(abf,validated_CSVs[5])\n",
    "\n",
    "i1 = 3250\n",
    "i2 = 3700\n",
    "channel_ind = 0\n",
    "file = '19d15016.abf'\n",
    "fig = plot_mean_sweep_with_vline(file,cell_ind,i1,i2,peak_pA_s)\n",
    "\n",
    "channel_ind = 2\n",
    "fig = plot_mean_sweep_with_vline(file,cell_ind,i1,i2,peak_pA_s)"
   ]
  },
  {
   "cell_type": "markdown",
   "metadata": {},
   "source": [
    "Adaptation of `data_summary_percell` so far:\n",
    "\n",
    "1. Input `cellnum`. If 1, proceed exactly as it is written in the original function and return dataframes of 1 cell. If 2, run everything twice, once for `abf.sweepY` and once for the other cell trace and return dataframes for each cell. \n",
    "2. Instead of manually typing in `cellnum` in each excel file (which is okay but might not be convenient if there's much more data down the line, we can use `nADCNum` from the metadata csv to find out how many channels there are per sweep: if 2, then its only one cell, if 4, 2 cells, and so forth. \n",
    "2. Save all dataframes in that same folder for consistency, but if `cellnum` = 2, then write each one with a different name to avoid confounds, they are still technically 2 different datapoints. "
   ]
  },
  {
   "cell_type": "markdown",
   "metadata": {},
   "source": [
    "Tasks to address in next notebook:\n",
    "\n",
    "1. Upload cleaned-up version of this notebook only with updated functions for concisiveness\n",
    "2. Change plots to include x mark as timepoint and magnitude of all registered peak amplitudes (to replace vlines)\n",
    "3. Include all raw traces as gray and mean trace as black instead of just the mean trace\n",
    "4. Change y-limits to make figures more readable\n",
    "5. Add all figures into single master figure per mouse"
   ]
  },
  {
   "cell_type": "code",
   "execution_count": null,
   "metadata": {},
   "outputs": [],
   "source": []
  }
 ],
 "metadata": {
  "kernelspec": {
   "display_name": "Python 3",
   "language": "python",
   "name": "python3"
  },
  "language_info": {
   "codemirror_mode": {
    "name": "ipython",
    "version": 3
   },
   "file_extension": ".py",
   "mimetype": "text/x-python",
   "name": "python",
   "nbconvert_exporter": "python",
   "pygments_lexer": "ipython3",
   "version": "3.7.4"
  }
 },
 "nbformat": 4,
 "nbformat_minor": 2
}
